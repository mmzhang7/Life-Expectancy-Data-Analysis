{
 "cells": [
  {
   "cell_type": "markdown",
   "metadata": {},
   "source": [
    "**If you lost points on the last checkpoint you can get them back by responding to TA/IA feedback**  \n",
    "\n",
    "Update/change the relevant sections where you lost those points, make sure you respond on GitHub Issues to your TA/IA to call their attention to the changes you made here.\n",
    "\n",
    "Please update your Timeline... no battle plan survives contact with the enemy, so make sure we understand how your plans have changed."
   ]
  },
  {
   "cell_type": "markdown",
   "metadata": {},
   "source": [
    "# COGS 108 - Data Checkpoint"
   ]
  },
  {
   "cell_type": "markdown",
   "metadata": {},
   "source": [
    "# Names\n",
    "\n",
    "- Mary-Ann Huang\n",
    "- Jenna Jedlicki\n",
    "- Heidi Salmoran\n",
    "- Jessica Zhang\n",
    "- Maggie Zhang"
   ]
  },
  {
   "cell_type": "markdown",
   "metadata": {},
   "source": [
    "# Research Question"
   ]
  },
  {
   "cell_type": "markdown",
   "metadata": {},
   "source": [
    "Is there a relationship between life expectancy and schooling time over the years 2000 to 2015? Specifically, should countries with a life expectancy below 65 consider lowering educational barriers to improve lifespan?"
   ]
  },
  {
   "cell_type": "markdown",
   "metadata": {},
   "source": [
    "## Background and Prior Work"
   ]
  },
  {
   "cell_type": "markdown",
   "metadata": {},
   "source": [
    "Life expectancy is a key metric in global development goals like the United Nations Sustainable Development Goals, which aim to improve health and promote well-being worldwide. <sup><a href=\"#WHO2022\">1</a></sup> As we all know, education often plays an important role in a country's development, especially in health. Intuitively, it equips people with the skills to understand basic health information, from nutrition labels to prescription instructions. In countries with lower expectancies, a lack of health literacy increases the rates of risky behaviors  like substance abuse, smoking, and unprotected sex. However, in extreme cases, some people have longer life spans despite challenging conditions. We want to find the relationship between life expectancy and schooling year, especially in countries with life expectancy below 65 years. Specifically, we aim to determine how significally additional years of schooling impact life expectancy. Therefore, governments can make informed decisions regarding education funding.\n",
    "\n",
    "In many developing regions, the need for qualified health professionals and accessible education is pressing. According to a World Bank report, \"a shortage of qualified health professionals challenges health sectors, particularly in countries like Yemen.”<sup><a href=\"WorldBank2022\">5</a></sup> This situation underscores the interconnectedness of education and health, especially in under-resourced areas where health and education are interwined. By increasing access to schooling, more individuals may pursue fields like pre-medical studies, which can help sustain and grow the health workforce after graduation. This increase in educated professionals could improve healthcare continuity and alleviate workforce shortages by providing more qualified health professionals to fill critical roles. Thus, examining the relationship between schooling and life expectancy may reveal if educational investment could improve health outcomes in places where resources are scarce.\n",
    "\n",
    "The glaring differences in life expectancies among countries and nations has led us to observe the relationship between these educational opportunities and how they can impact a country’s life expectancy. In doing so, we’ve referenced previous works published from institutions such as the Institute for Health Metrics and Evaluation (IHME) and the National Institute of Health (NIH). The article, “Effects of education on adult mortality: A global systemic review and meta-analysis” by Claire Henson et al., found that access to education (e.g., 18-year education) has a positive effect on reducing adult mortality all around (Henson et al., 2024) <sup><a href=\"#THELANCET2024\">3</a></sup>. In their approach to this study through systematic review and meta-analysis, their research covered several components such as age groups, super-regions, socio-demographic index level, follow-ups, study-level controls, and much more. As this case took into consideration several global technological advancements in health care/quality, public health efforts, and individual rights in the workforce, they’ve denoted that the above factors have greatly contributed to the positive trends of this study. Likewise, the study, “The Effect of Educational Attainment on Adult Mortality in the United States” by Robert A. Hummer and Elaine M. Hernandez sought to investigate the differences among different groups of individuals in the U.S. and utilize those findings to draw connections between their identities and their level of educational attainment. For instance, they sorted individuals into different categories by: \n",
    "\n",
    "- \"Less than a high school degree or its equivalent,\n",
    "- A high school degree or its equivalent,\n",
    "- Some college but not a bachelor's degree,\n",
    "- A bachelor's degree or higher\" (Hummer & Hernandez, 2013) <sup><a href=\"#NIH2013\">4</a></sup>.\n",
    "\n",
    "While the relevant works are similar, they both go beyond preliminary knowledge of the relationship between education and life expectancy. This is due to the different perspectives that both studies provide such as observing the positive trends [in life expectancy and education] across countries and analyzing the story told by the decrease in U.S. mortality rates across different categories of individuals.\n",
    "\n",
    "\n",
    "References:\n",
    "1. <a name=\"WHO2022\"></a> World Health Organization. (2022). Sustainable Development Goals Report. United Nations. [https://unstats.un.org/sdgs/report/2022/SDG2022_Flipbook_final.pdf](https://unstats.un.org/sdgs/report/2022/SDG2022_Flipbook_final.pdf) <a href=\"#1\">^</a>\n",
    "\n",
    "2. <a name=\"IHME2024\"></a> *Effects of education on adult mortality*. (n.d.). Institute for Health Metrics and Evaluation. https://www.healthdata.org/research-analysis/library/effects-education-adult-mortality <a href=\"#2\"></a>\n",
    "\n",
    "3. <a name=\"THELANCET2024\"></a> Henson, C., Gakidou, E., Aravkin, A., Hay, S., McLaughlin, S., Mullany, E., O’Connell, E., Sorensen, R., & Zheng, P. (2024). Effects of Education on Adult Mortality: A Global Systematic Review and Meta-analysis. *The Lancet Public Health*, 9(3), 155–165. https://www.thelancet.com/journals/lanpub/article/PIIS2468-2667(23)00306-7/fulltext <a href=\"#3\"></a>\n",
    "\n",
    "\n",
    "4. <a name=\"NIH2013\"></a> Hummer, R. A., & Hernandez, E. M. (2013, June 1). *The effect of educational attainment on adult mortality in the United States*. https://pmc.ncbi.nlm.nih.gov/articles/PMC4435622/ <a href=\"#4\"></a>\n",
    "\n",
    "5. <a name=\"WorldBank2022\"></a> Alsoswa, Amatalalim. (2022). The Link Between Health and Education for Development Planning in Yemen. World Bank. https://thedocs.worldbank.org/en/doc/591a630e0d70bf5eb47bad8992fd6440-0280032022/original/THE-LINK-BETWEEN-HEALTH-AND-EDUCATION.pdf <a href=\"#WorldBank2022\">^</a >"
   ]
  },
  {
   "cell_type": "markdown",
   "metadata": {},
   "source": [
    "# Hypothesis\n"
   ]
  },
  {
   "cell_type": "markdown",
   "metadata": {},
   "source": [
    "Our main hypothesis is that longer schooling time is positively correlated with life expectancy especially above 65 years. Although length of school attendance in years is not the sole factor that affects life expectancy, we believe that an increase in education benefits life quality, which in turn positively affects life expectancy. Some bias factors might be by nationality, sex, race, and other demographics. "
   ]
  },
  {
   "cell_type": "markdown",
   "metadata": {},
   "source": [
    "# Data"
   ]
  },
  {
   "cell_type": "markdown",
   "metadata": {},
   "source": [
    "The variables we would have would include: year, nationality, development status of the country in question, average duration of education in years, life expectancy, eating habits, age density of the population. These variables will be stored in suitable formats: numeric data (int or float) for quantitative data and booleans/objects for qualitative data. We would ideally want at least 1000+ entries, but over 5000 is probably the most ideal and representative of real life. The time period would be over 2000-2015, which is a good time period that saw many economic fluctuations but didn’t have a global pandemic. \n",
    "\n",
    "For this topic, reliable data sources, such as the World Health Organization (WHO) and UNESCO, would be helpful and ensure credibility as well. Specifically, it's possible to obtain population, life expectancy, and vaccination rates. To handle missing data, particularly for underrepresented regions, we may implement the following strategies:\n",
    "1. For countries with occasional missing values, we filled in gaps by averaging values from the closest three years.\n",
    "2. For countries missing data for all years, we used the average value of the broader region (e.g., Asia, European Union) to approximate missing data.\n",
    "\n",
    "It’s significant to examine the distribution of each quantitative variable, as underrepresented regions often contain extreme values that can significantly affect model performance, particularly when using linear models. Additionally, we could categorize countries as Developed or Developing based on GDP to help differentiate analysis outcomes by economic development status. These strategies aim to minimize bias and ensure a well-rounded dataset. Additionally, some variables in the dataset looked like they had impossible values from the original dataset considering the range. One example of this would be average BMI, so another cleaned-up version was used. However, in the end, it's important to realize that there is a large possibility that some of the data has been represented and to treat outlier and nonsense variables with care and responsibility."
   ]
  },
  {
   "cell_type": "markdown",
   "metadata": {},
   "source": [
    "## Data overview\n",
    "\n",
    "-Dataset Name: Life Expectancy\n",
    "\n",
    "-Link: https://www.kaggle.com/datasets/lashagoch/life-expectancy-who-updated\n",
    "\n",
    "-Number of observations: 2864\n",
    "\n",
    "-Number of variables: 21\n",
    "\n",
    "-Description: This dataset features a mixture of health and economic data including life expectancy per country per year, from 2000-2015. Vaccine data for Hepatitis, Measles, Polio, and Diptheria are in percent coverage among 1 year olds. Infant deaths, under five deaths, adult mortality, and HIV incidents are in number per 1000 people. Thinness refers to number of people 2 standard deviations below median BMI. Schooling is how many years people older than 25 spent in education. Economic status sorts countries by GPD into Developing or Developed category.\n",
    "\n",
    "-Cleaning - The dataset is already mostly clean as there are no missing values, numerical data is properly formatted, and it is presented in a tidy fashion. Each row represents 1 country in 1 year. Some data is in percentages and some is in per 1000 people, however, if it is neccesary to directly compare that data to the vaccine data, the other columns can be converted into a percentage by dividing them by 1000."
   ]
  },
  {
   "cell_type": "markdown",
   "metadata": {},
   "source": [
    "## Dataset Life Expectancy"
   ]
  },
  {
   "cell_type": "code",
   "execution_count": 2,
   "metadata": {},
   "outputs": [],
   "source": [
    "#Import packages for data wrangling and analysis\n",
    "import pandas as pd"
   ]
  },
  {
   "cell_type": "code",
   "execution_count": 8,
   "metadata": {},
   "outputs": [],
   "source": [
    "data = pd.read_csv(\"Life-Expectancy-Data-Updated.csv\")"
   ]
  },
  {
   "cell_type": "code",
   "execution_count": 10,
   "metadata": {},
   "outputs": [
    {
     "data": {
      "text/html": [
       "<div>\n",
       "<style scoped>\n",
       "    .dataframe tbody tr th:only-of-type {\n",
       "        vertical-align: middle;\n",
       "    }\n",
       "\n",
       "    .dataframe tbody tr th {\n",
       "        vertical-align: top;\n",
       "    }\n",
       "\n",
       "    .dataframe thead th {\n",
       "        text-align: right;\n",
       "    }\n",
       "</style>\n",
       "<table border=\"1\" class=\"dataframe\">\n",
       "  <thead>\n",
       "    <tr style=\"text-align: right;\">\n",
       "      <th></th>\n",
       "      <th>Country</th>\n",
       "      <th>Region</th>\n",
       "      <th>Year</th>\n",
       "      <th>Infant_deaths</th>\n",
       "      <th>Under_five_deaths</th>\n",
       "      <th>Adult_mortality</th>\n",
       "      <th>Alcohol_consumption</th>\n",
       "      <th>Hepatitis_B</th>\n",
       "      <th>Measles</th>\n",
       "      <th>BMI</th>\n",
       "      <th>...</th>\n",
       "      <th>Diphtheria</th>\n",
       "      <th>Incidents_HIV</th>\n",
       "      <th>GDP_per_capita</th>\n",
       "      <th>Population_mln</th>\n",
       "      <th>Thinness_ten_nineteen_years</th>\n",
       "      <th>Thinness_five_nine_years</th>\n",
       "      <th>Schooling</th>\n",
       "      <th>Economy_status_Developed</th>\n",
       "      <th>Economy_status_Developing</th>\n",
       "      <th>Life_expectancy</th>\n",
       "    </tr>\n",
       "  </thead>\n",
       "  <tbody>\n",
       "    <tr>\n",
       "      <th>0</th>\n",
       "      <td>Turkiye</td>\n",
       "      <td>Middle East</td>\n",
       "      <td>2015</td>\n",
       "      <td>11.1</td>\n",
       "      <td>13.0</td>\n",
       "      <td>105.8240</td>\n",
       "      <td>1.32</td>\n",
       "      <td>97</td>\n",
       "      <td>65</td>\n",
       "      <td>27.8</td>\n",
       "      <td>...</td>\n",
       "      <td>97</td>\n",
       "      <td>0.08</td>\n",
       "      <td>11006</td>\n",
       "      <td>78.53</td>\n",
       "      <td>4.9</td>\n",
       "      <td>4.8</td>\n",
       "      <td>7.8</td>\n",
       "      <td>0</td>\n",
       "      <td>1</td>\n",
       "      <td>76.5</td>\n",
       "    </tr>\n",
       "    <tr>\n",
       "      <th>1</th>\n",
       "      <td>Spain</td>\n",
       "      <td>European Union</td>\n",
       "      <td>2015</td>\n",
       "      <td>2.7</td>\n",
       "      <td>3.3</td>\n",
       "      <td>57.9025</td>\n",
       "      <td>10.35</td>\n",
       "      <td>97</td>\n",
       "      <td>94</td>\n",
       "      <td>26.0</td>\n",
       "      <td>...</td>\n",
       "      <td>97</td>\n",
       "      <td>0.09</td>\n",
       "      <td>25742</td>\n",
       "      <td>46.44</td>\n",
       "      <td>0.6</td>\n",
       "      <td>0.5</td>\n",
       "      <td>9.7</td>\n",
       "      <td>1</td>\n",
       "      <td>0</td>\n",
       "      <td>82.8</td>\n",
       "    </tr>\n",
       "    <tr>\n",
       "      <th>2</th>\n",
       "      <td>India</td>\n",
       "      <td>Asia</td>\n",
       "      <td>2007</td>\n",
       "      <td>51.5</td>\n",
       "      <td>67.9</td>\n",
       "      <td>201.0765</td>\n",
       "      <td>1.57</td>\n",
       "      <td>60</td>\n",
       "      <td>35</td>\n",
       "      <td>21.2</td>\n",
       "      <td>...</td>\n",
       "      <td>64</td>\n",
       "      <td>0.13</td>\n",
       "      <td>1076</td>\n",
       "      <td>1183.21</td>\n",
       "      <td>27.1</td>\n",
       "      <td>28.0</td>\n",
       "      <td>5.0</td>\n",
       "      <td>0</td>\n",
       "      <td>1</td>\n",
       "      <td>65.4</td>\n",
       "    </tr>\n",
       "    <tr>\n",
       "      <th>3</th>\n",
       "      <td>Guyana</td>\n",
       "      <td>South America</td>\n",
       "      <td>2006</td>\n",
       "      <td>32.8</td>\n",
       "      <td>40.5</td>\n",
       "      <td>222.1965</td>\n",
       "      <td>5.68</td>\n",
       "      <td>93</td>\n",
       "      <td>74</td>\n",
       "      <td>25.3</td>\n",
       "      <td>...</td>\n",
       "      <td>93</td>\n",
       "      <td>0.79</td>\n",
       "      <td>4146</td>\n",
       "      <td>0.75</td>\n",
       "      <td>5.7</td>\n",
       "      <td>5.5</td>\n",
       "      <td>7.9</td>\n",
       "      <td>0</td>\n",
       "      <td>1</td>\n",
       "      <td>67.0</td>\n",
       "    </tr>\n",
       "    <tr>\n",
       "      <th>4</th>\n",
       "      <td>Israel</td>\n",
       "      <td>Middle East</td>\n",
       "      <td>2012</td>\n",
       "      <td>3.4</td>\n",
       "      <td>4.3</td>\n",
       "      <td>57.9510</td>\n",
       "      <td>2.89</td>\n",
       "      <td>97</td>\n",
       "      <td>89</td>\n",
       "      <td>27.0</td>\n",
       "      <td>...</td>\n",
       "      <td>94</td>\n",
       "      <td>0.08</td>\n",
       "      <td>33995</td>\n",
       "      <td>7.91</td>\n",
       "      <td>1.2</td>\n",
       "      <td>1.1</td>\n",
       "      <td>12.8</td>\n",
       "      <td>1</td>\n",
       "      <td>0</td>\n",
       "      <td>81.7</td>\n",
       "    </tr>\n",
       "  </tbody>\n",
       "</table>\n",
       "<p>5 rows × 21 columns</p>\n",
       "</div>"
      ],
      "text/plain": [
       "   Country          Region  Year  Infant_deaths  Under_five_deaths  \\\n",
       "0  Turkiye     Middle East  2015           11.1               13.0   \n",
       "1    Spain  European Union  2015            2.7                3.3   \n",
       "2    India            Asia  2007           51.5               67.9   \n",
       "3   Guyana   South America  2006           32.8               40.5   \n",
       "4   Israel     Middle East  2012            3.4                4.3   \n",
       "\n",
       "   Adult_mortality  Alcohol_consumption  Hepatitis_B  Measles   BMI  ...  \\\n",
       "0         105.8240                 1.32           97       65  27.8  ...   \n",
       "1          57.9025                10.35           97       94  26.0  ...   \n",
       "2         201.0765                 1.57           60       35  21.2  ...   \n",
       "3         222.1965                 5.68           93       74  25.3  ...   \n",
       "4          57.9510                 2.89           97       89  27.0  ...   \n",
       "\n",
       "   Diphtheria  Incidents_HIV  GDP_per_capita  Population_mln  \\\n",
       "0          97           0.08           11006           78.53   \n",
       "1          97           0.09           25742           46.44   \n",
       "2          64           0.13            1076         1183.21   \n",
       "3          93           0.79            4146            0.75   \n",
       "4          94           0.08           33995            7.91   \n",
       "\n",
       "   Thinness_ten_nineteen_years  Thinness_five_nine_years  Schooling  \\\n",
       "0                          4.9                       4.8        7.8   \n",
       "1                          0.6                       0.5        9.7   \n",
       "2                         27.1                      28.0        5.0   \n",
       "3                          5.7                       5.5        7.9   \n",
       "4                          1.2                       1.1       12.8   \n",
       "\n",
       "   Economy_status_Developed  Economy_status_Developing  Life_expectancy  \n",
       "0                         0                          1             76.5  \n",
       "1                         1                          0             82.8  \n",
       "2                         0                          1             65.4  \n",
       "3                         0                          1             67.0  \n",
       "4                         1                          0             81.7  \n",
       "\n",
       "[5 rows x 21 columns]"
      ]
     },
     "execution_count": 10,
     "metadata": {},
     "output_type": "execute_result"
    }
   ],
   "source": [
    "data.head()"
   ]
  },
  {
   "cell_type": "code",
   "execution_count": 14,
   "metadata": {},
   "outputs": [
    {
     "data": {
      "text/html": [
       "<div>\n",
       "<style scoped>\n",
       "    .dataframe tbody tr th:only-of-type {\n",
       "        vertical-align: middle;\n",
       "    }\n",
       "\n",
       "    .dataframe tbody tr th {\n",
       "        vertical-align: top;\n",
       "    }\n",
       "\n",
       "    .dataframe thead th {\n",
       "        text-align: right;\n",
       "    }\n",
       "</style>\n",
       "<table border=\"1\" class=\"dataframe\">\n",
       "  <thead>\n",
       "    <tr style=\"text-align: right;\">\n",
       "      <th></th>\n",
       "      <th>Year</th>\n",
       "      <th>Infant_deaths</th>\n",
       "      <th>Under_five_deaths</th>\n",
       "      <th>Adult_mortality</th>\n",
       "      <th>Alcohol_consumption</th>\n",
       "      <th>Hepatitis_B</th>\n",
       "      <th>Measles</th>\n",
       "      <th>BMI</th>\n",
       "      <th>Polio</th>\n",
       "      <th>Diphtheria</th>\n",
       "      <th>Incidents_HIV</th>\n",
       "      <th>GDP_per_capita</th>\n",
       "      <th>Population_mln</th>\n",
       "      <th>Thinness_ten_nineteen_years</th>\n",
       "      <th>Thinness_five_nine_years</th>\n",
       "      <th>Schooling</th>\n",
       "      <th>Economy_status_Developed</th>\n",
       "      <th>Economy_status_Developing</th>\n",
       "      <th>Life_expectancy</th>\n",
       "    </tr>\n",
       "  </thead>\n",
       "  <tbody>\n",
       "    <tr>\n",
       "      <th>count</th>\n",
       "      <td>2864.000000</td>\n",
       "      <td>2864.000000</td>\n",
       "      <td>2864.000000</td>\n",
       "      <td>2864.000000</td>\n",
       "      <td>2864.000000</td>\n",
       "      <td>2864.000000</td>\n",
       "      <td>2864.000000</td>\n",
       "      <td>2864.000000</td>\n",
       "      <td>2864.000000</td>\n",
       "      <td>2864.000000</td>\n",
       "      <td>2864.000000</td>\n",
       "      <td>2864.000000</td>\n",
       "      <td>2864.000000</td>\n",
       "      <td>2864.000000</td>\n",
       "      <td>2864.000000</td>\n",
       "      <td>2864.000000</td>\n",
       "      <td>2864.000000</td>\n",
       "      <td>2864.000000</td>\n",
       "      <td>2864.000000</td>\n",
       "    </tr>\n",
       "    <tr>\n",
       "      <th>mean</th>\n",
       "      <td>2007.500000</td>\n",
       "      <td>30.363792</td>\n",
       "      <td>42.938268</td>\n",
       "      <td>192.251775</td>\n",
       "      <td>4.820882</td>\n",
       "      <td>84.292598</td>\n",
       "      <td>77.344972</td>\n",
       "      <td>25.032926</td>\n",
       "      <td>86.499651</td>\n",
       "      <td>86.271648</td>\n",
       "      <td>0.894288</td>\n",
       "      <td>11540.924930</td>\n",
       "      <td>36.675915</td>\n",
       "      <td>4.865852</td>\n",
       "      <td>4.899825</td>\n",
       "      <td>7.632123</td>\n",
       "      <td>0.206704</td>\n",
       "      <td>0.793296</td>\n",
       "      <td>68.856075</td>\n",
       "    </tr>\n",
       "    <tr>\n",
       "      <th>std</th>\n",
       "      <td>4.610577</td>\n",
       "      <td>27.538117</td>\n",
       "      <td>44.569974</td>\n",
       "      <td>114.910281</td>\n",
       "      <td>3.981949</td>\n",
       "      <td>15.995511</td>\n",
       "      <td>18.659693</td>\n",
       "      <td>2.193905</td>\n",
       "      <td>15.080365</td>\n",
       "      <td>15.534225</td>\n",
       "      <td>2.381389</td>\n",
       "      <td>16934.788931</td>\n",
       "      <td>136.485867</td>\n",
       "      <td>4.438234</td>\n",
       "      <td>4.525217</td>\n",
       "      <td>3.171556</td>\n",
       "      <td>0.405012</td>\n",
       "      <td>0.405012</td>\n",
       "      <td>9.405608</td>\n",
       "    </tr>\n",
       "    <tr>\n",
       "      <th>min</th>\n",
       "      <td>2000.000000</td>\n",
       "      <td>1.800000</td>\n",
       "      <td>2.300000</td>\n",
       "      <td>49.384000</td>\n",
       "      <td>0.000000</td>\n",
       "      <td>12.000000</td>\n",
       "      <td>10.000000</td>\n",
       "      <td>19.800000</td>\n",
       "      <td>8.000000</td>\n",
       "      <td>16.000000</td>\n",
       "      <td>0.010000</td>\n",
       "      <td>148.000000</td>\n",
       "      <td>0.080000</td>\n",
       "      <td>0.100000</td>\n",
       "      <td>0.100000</td>\n",
       "      <td>1.100000</td>\n",
       "      <td>0.000000</td>\n",
       "      <td>0.000000</td>\n",
       "      <td>39.400000</td>\n",
       "    </tr>\n",
       "    <tr>\n",
       "      <th>25%</th>\n",
       "      <td>2003.750000</td>\n",
       "      <td>8.100000</td>\n",
       "      <td>9.675000</td>\n",
       "      <td>106.910250</td>\n",
       "      <td>1.200000</td>\n",
       "      <td>78.000000</td>\n",
       "      <td>64.000000</td>\n",
       "      <td>23.200000</td>\n",
       "      <td>81.000000</td>\n",
       "      <td>81.000000</td>\n",
       "      <td>0.080000</td>\n",
       "      <td>1415.750000</td>\n",
       "      <td>2.097500</td>\n",
       "      <td>1.600000</td>\n",
       "      <td>1.600000</td>\n",
       "      <td>5.100000</td>\n",
       "      <td>0.000000</td>\n",
       "      <td>1.000000</td>\n",
       "      <td>62.700000</td>\n",
       "    </tr>\n",
       "    <tr>\n",
       "      <th>50%</th>\n",
       "      <td>2007.500000</td>\n",
       "      <td>19.600000</td>\n",
       "      <td>23.100000</td>\n",
       "      <td>163.841500</td>\n",
       "      <td>4.020000</td>\n",
       "      <td>89.000000</td>\n",
       "      <td>83.000000</td>\n",
       "      <td>25.500000</td>\n",
       "      <td>93.000000</td>\n",
       "      <td>93.000000</td>\n",
       "      <td>0.150000</td>\n",
       "      <td>4217.000000</td>\n",
       "      <td>7.850000</td>\n",
       "      <td>3.300000</td>\n",
       "      <td>3.400000</td>\n",
       "      <td>7.800000</td>\n",
       "      <td>0.000000</td>\n",
       "      <td>1.000000</td>\n",
       "      <td>71.400000</td>\n",
       "    </tr>\n",
       "    <tr>\n",
       "      <th>75%</th>\n",
       "      <td>2011.250000</td>\n",
       "      <td>47.350000</td>\n",
       "      <td>66.000000</td>\n",
       "      <td>246.791375</td>\n",
       "      <td>7.777500</td>\n",
       "      <td>96.000000</td>\n",
       "      <td>93.000000</td>\n",
       "      <td>26.400000</td>\n",
       "      <td>97.000000</td>\n",
       "      <td>97.000000</td>\n",
       "      <td>0.460000</td>\n",
       "      <td>12557.000000</td>\n",
       "      <td>23.687500</td>\n",
       "      <td>7.200000</td>\n",
       "      <td>7.300000</td>\n",
       "      <td>10.300000</td>\n",
       "      <td>0.000000</td>\n",
       "      <td>1.000000</td>\n",
       "      <td>75.400000</td>\n",
       "    </tr>\n",
       "    <tr>\n",
       "      <th>max</th>\n",
       "      <td>2015.000000</td>\n",
       "      <td>138.100000</td>\n",
       "      <td>224.900000</td>\n",
       "      <td>719.360500</td>\n",
       "      <td>17.870000</td>\n",
       "      <td>99.000000</td>\n",
       "      <td>99.000000</td>\n",
       "      <td>32.100000</td>\n",
       "      <td>99.000000</td>\n",
       "      <td>99.000000</td>\n",
       "      <td>21.680000</td>\n",
       "      <td>112418.000000</td>\n",
       "      <td>1379.860000</td>\n",
       "      <td>27.700000</td>\n",
       "      <td>28.600000</td>\n",
       "      <td>14.100000</td>\n",
       "      <td>1.000000</td>\n",
       "      <td>1.000000</td>\n",
       "      <td>83.800000</td>\n",
       "    </tr>\n",
       "  </tbody>\n",
       "</table>\n",
       "</div>"
      ],
      "text/plain": [
       "              Year  Infant_deaths  Under_five_deaths  Adult_mortality  \\\n",
       "count  2864.000000    2864.000000        2864.000000      2864.000000   \n",
       "mean   2007.500000      30.363792          42.938268       192.251775   \n",
       "std       4.610577      27.538117          44.569974       114.910281   \n",
       "min    2000.000000       1.800000           2.300000        49.384000   \n",
       "25%    2003.750000       8.100000           9.675000       106.910250   \n",
       "50%    2007.500000      19.600000          23.100000       163.841500   \n",
       "75%    2011.250000      47.350000          66.000000       246.791375   \n",
       "max    2015.000000     138.100000         224.900000       719.360500   \n",
       "\n",
       "       Alcohol_consumption  Hepatitis_B      Measles          BMI  \\\n",
       "count          2864.000000  2864.000000  2864.000000  2864.000000   \n",
       "mean              4.820882    84.292598    77.344972    25.032926   \n",
       "std               3.981949    15.995511    18.659693     2.193905   \n",
       "min               0.000000    12.000000    10.000000    19.800000   \n",
       "25%               1.200000    78.000000    64.000000    23.200000   \n",
       "50%               4.020000    89.000000    83.000000    25.500000   \n",
       "75%               7.777500    96.000000    93.000000    26.400000   \n",
       "max              17.870000    99.000000    99.000000    32.100000   \n",
       "\n",
       "             Polio   Diphtheria  Incidents_HIV  GDP_per_capita  \\\n",
       "count  2864.000000  2864.000000    2864.000000     2864.000000   \n",
       "mean     86.499651    86.271648       0.894288    11540.924930   \n",
       "std      15.080365    15.534225       2.381389    16934.788931   \n",
       "min       8.000000    16.000000       0.010000      148.000000   \n",
       "25%      81.000000    81.000000       0.080000     1415.750000   \n",
       "50%      93.000000    93.000000       0.150000     4217.000000   \n",
       "75%      97.000000    97.000000       0.460000    12557.000000   \n",
       "max      99.000000    99.000000      21.680000   112418.000000   \n",
       "\n",
       "       Population_mln  Thinness_ten_nineteen_years  Thinness_five_nine_years  \\\n",
       "count     2864.000000                  2864.000000               2864.000000   \n",
       "mean        36.675915                     4.865852                  4.899825   \n",
       "std        136.485867                     4.438234                  4.525217   \n",
       "min          0.080000                     0.100000                  0.100000   \n",
       "25%          2.097500                     1.600000                  1.600000   \n",
       "50%          7.850000                     3.300000                  3.400000   \n",
       "75%         23.687500                     7.200000                  7.300000   \n",
       "max       1379.860000                    27.700000                 28.600000   \n",
       "\n",
       "         Schooling  Economy_status_Developed  Economy_status_Developing  \\\n",
       "count  2864.000000               2864.000000                2864.000000   \n",
       "mean      7.632123                  0.206704                   0.793296   \n",
       "std       3.171556                  0.405012                   0.405012   \n",
       "min       1.100000                  0.000000                   0.000000   \n",
       "25%       5.100000                  0.000000                   1.000000   \n",
       "50%       7.800000                  0.000000                   1.000000   \n",
       "75%      10.300000                  0.000000                   1.000000   \n",
       "max      14.100000                  1.000000                   1.000000   \n",
       "\n",
       "       Life_expectancy  \n",
       "count      2864.000000  \n",
       "mean         68.856075  \n",
       "std           9.405608  \n",
       "min          39.400000  \n",
       "25%          62.700000  \n",
       "50%          71.400000  \n",
       "75%          75.400000  \n",
       "max          83.800000  "
      ]
     },
     "execution_count": 14,
     "metadata": {},
     "output_type": "execute_result"
    }
   ],
   "source": [
    "data.describe()"
   ]
  },
  {
   "cell_type": "code",
   "execution_count": 36,
   "metadata": {},
   "outputs": [
    {
     "data": {
      "text/plain": [
       "Country                         object\n",
       "Region                          object\n",
       "Year                             int64\n",
       "Infant_deaths                  float64\n",
       "Under_five_deaths              float64\n",
       "Adult_mortality                float64\n",
       "Alcohol_consumption            float64\n",
       "Hepatitis_B                      int64\n",
       "Measles                          int64\n",
       "BMI                            float64\n",
       "Polio                            int64\n",
       "Diphtheria                       int64\n",
       "Incidents_HIV                  float64\n",
       "GDP_per_capita                   int64\n",
       "Population_mln                 float64\n",
       "Thinness_ten_nineteen_years    float64\n",
       "Thinness_five_nine_years       float64\n",
       "Schooling                      float64\n",
       "Economy_status_Developed         int64\n",
       "Economy_status_Developing        int64\n",
       "Life_expectancy                float64\n",
       "dtype: object"
      ]
     },
     "execution_count": 36,
     "metadata": {},
     "output_type": "execute_result"
    }
   ],
   "source": [
    "data.dtypes"
   ]
  },
  {
   "cell_type": "code",
   "execution_count": 16,
   "metadata": {},
   "outputs": [
    {
     "name": "stdout",
     "output_type": "stream",
     "text": [
      "Country                        0\n",
      "Region                         0\n",
      "Year                           0\n",
      "Infant_deaths                  0\n",
      "Under_five_deaths              0\n",
      "Adult_mortality                0\n",
      "Alcohol_consumption            0\n",
      "Hepatitis_B                    0\n",
      "Measles                        0\n",
      "BMI                            0\n",
      "Polio                          0\n",
      "Diphtheria                     0\n",
      "Incidents_HIV                  0\n",
      "GDP_per_capita                 0\n",
      "Population_mln                 0\n",
      "Thinness_ten_nineteen_years    0\n",
      "Thinness_five_nine_years       0\n",
      "Schooling                      0\n",
      "Economy_status_Developed       0\n",
      "Economy_status_Developing      0\n",
      "Life_expectancy                0\n",
      "dtype: int64\n"
     ]
    },
    {
     "data": {
      "text/plain": [
       "(2864, 21)"
      ]
     },
     "execution_count": 16,
     "metadata": {},
     "output_type": "execute_result"
    }
   ],
   "source": [
    "#checking for NA entries\n",
    "missing = data.isna().sum()\n",
    "print(missing)\n",
    "#checking for number of observations\n",
    "data.shape"
   ]
  },
  {
   "cell_type": "code",
   "execution_count": 20,
   "metadata": {},
   "outputs": [
    {
     "data": {
      "image/png": "[encoded data removed]",
      "text/plain": [
       "<Figure size 1000x600 with 1 Axes>"
      ]
     },
     "metadata": {},
     "output_type": "display_data"
    }
   ],
   "source": [
    "# Univariate Analysis\n",
    "import matplotlib.pyplot as plt\n",
    "import seaborn as sns\n",
    "\n",
    "plt.figure(figsize=(10, 6))\n",
    "sns.histplot(data['Adult_mortality'], bins=10, kde=True)\n",
    "plt.title('Distribution of Mortality Rates')\n",
    "plt.xlabel('Mortality')\n",
    "plt.ylabel('Frequency')\n",
    "plt.show()\n"
   ]
  },
  {
   "cell_type": "markdown",
   "metadata": {},
   "source": [
    "##### The adult mortality column is right-skewed, meaning there are more observations with lower mortality rates and a tail extending to the right with higher rates. We need to examine the relatively extreme values and apply a transformation to reduce skewness if needed. "
   ]
  },
  {
   "cell_type": "code",
   "execution_count": 28,
   "metadata": {},
   "outputs": [
    {
     "data": {
      "image/png": "[encoded data removed]",
      "text/plain": [
       "<Figure size 1000x600 with 1 Axes>"
      ]
     },
     "metadata": {},
     "output_type": "display_data"
    }
   ],
   "source": [
    "plt.figure(figsize=(10, 6))\n",
    "sns.histplot(data['Schooling'], bins=10, kde=True)\n",
    "plt.title('Distribution of Schooling')\n",
    "plt.xlabel('Schooling')\n",
    "plt.ylabel('Frequency')\n",
    "plt.show()\n"
   ]
  },
  {
   "cell_type": "markdown",
   "metadata": {},
   "source": [
    "##### The histogram shows that the mode (most frequent value) is around 9-10 years of schooling."
   ]
  },
  {
   "cell_type": "code",
   "execution_count": 32,
   "metadata": {},
   "outputs": [
    {
     "data": {
      "image/png": "[encoded data removed]",
      "text/plain": [
       "<Figure size 1000x600 with 1 Axes>"
      ]
     },
     "metadata": {},
     "output_type": "display_data"
    }
   ],
   "source": [
    "plt.figure(figsize=(10, 6))\n",
    "sns.histplot(data['Life_expectancy'], bins=10, kde=True)\n",
    "plt.title('Distribution of Life Expectancy')\n",
    "plt.xlabel('Life Expectancy')\n",
    "plt.ylabel('Frequency')\n",
    "plt.show()\n"
   ]
  },
  {
   "cell_type": "markdown",
   "metadata": {},
   "source": [
    "##### The life expectancy column is right-skewed, meaning there are more observations with higher life expectancy rates and a tail extending to the left with lower rates."
   ]
  },
  {
   "cell_type": "markdown",
   "metadata": {},
   "source": [
    "# Ethics & Privacy"
   ]
  },
  {
   "cell_type": "markdown",
   "metadata": {},
   "source": [
    "One risk for our data is the possibility of collection bias. Especially from less developed countries, it is possible that data relating to people from more rural or lesser-known areas is not collected. During our analysis, we must be sure we are not undersampling these overlooked areas of concern. Additionally, biases may arise in dataset composition as some countries are purposely excluded due to lacking vaccination data such as Vanuatu, Tonga, Togo, and Cabo Verde (mostly small island nations) so we need to either account for this missing data or see how well our model fits even without that data. There may also be differences in data collection methods which causes data variation across different countries. Finally, we need to make sure there is not any unintended use of our analysis, especially with any human biases involved. We can also look for inconsistencies or missing values to determine whether there are systematic biases in data collection and can affect the integrity of the dataset. \n",
    "\n",
    "In regards to privacy, we need to make sure that personal identifiable information is not being used and is removed. It is also important to keep into consideration that the dataset is collected and maintained by the government which can restrict how data is accessed or shared. When analyzing these datasets, we will only use information that is already available to the public. We also need to make sure our model is fair to all kinds of people involved and does not discriminate against any groups."
   ]
  },
  {
   "cell_type": "markdown",
   "metadata": {},
   "source": [
    "# Team Expectations "
   ]
  },
  {
   "cell_type": "markdown",
   "metadata": {},
   "source": [
    "\n",
    "* *Communicate through Slack to set up meetings, organize documents, and brainstorm.*\n",
    "* *Any team member can voice their input during meetings. If there are disagreements, they can be discussed through reasoning until the group comes to a compromise or resolution arrives.*\n",
    "* *Every member of the team will be able to participate in the decision-making process. This will mainly be done during meetings.*\n",
    "* *Tasks will be distributed evenly amongst the team.*\n",
    "* *After tasks are distributed evenly, each team member should be responsible for contributing their portion in order to meet the deadline.*\n",
    "* *If someone is struggling with a portion of the project, they may reach out through Slack or we can troubleshoot to do it over Zoom.*"
   ]
  },
  {
   "cell_type": "markdown",
   "metadata": {},
   "source": [
    "# Project Timeline Proposal"
   ]
  },
  {
   "cell_type": "markdown",
   "metadata": {},
   "source": [
    "Specify your team's specific project timeline. An example timeline has been provided. Changes the dates, times, names, and details to fit your group's plan.\n",
    "\n",
    "If you think you will need any special resources or training outside what we have covered in COGS 108 to solve your problem, then your proposal should state these clearly. For example, if you have selected a problem that involves implementing multiple neural networks, please state this so we can make sure you know what you’re doing and so we can point you to resources you will need to implement your project. Note that you are not required to use outside methods.\n",
    "\n",
    "\n",
    "\n",
    "| Meeting Date  | Meeting Time| Completed Before Meeting  | Discuss at Meeting |\n",
    "|---|---|---|---|\n",
    "| 9/30  |  1 PM | Read & Think about COGS 108 expectations; brainstorm topics/questions  | Determine best form of communication; Discuss and decide on final project topic; discuss hypothesis; begin background research | \n",
    "| 10/15  |  10 AM |  Do background research on topic | Discuss ideal dataset(s) and ethics; draft project proposal | \n",
    "| 10/30  | 9 AM  | Edit, finalize, and submit proposal; Search for datasets  | Discuss Wrangling and possible analytical approaches; Assign group members to lead each specific part   | \n",
    "| 11/12  | 6 PM  | Import & Wrangle Data; EDA (check null data) | Review/Edit wrangling/EDA; Discuss Analysis Plan   |\n",
    "| 11/18  | 12 PM  | Finalize wrangling/EDA and meet as a group; Maggie and Mary-Ann will begin analysis based on discussion around data clean-up and types of analysis | Discuss/edit Analysis as a group with a Zoom Meeting; complete project check-in, assign tasks for next week | \n",
    "| 11/20  | 12 PM  | Complete analysis; Draft results/conclusion/discussion | Discuss/edit full project | \n",
    "| 12/13  | Before 11:59 PM  | NA | Turn in Final Project & Group Project Surveys |\n"
   ]
  }
 ],
 "metadata": {
  "kernelspec": {
   "display_name": "Python 3 (ipykernel)",
   "language": "python",
   "name": "python3"
  },
  "language_info": {
   "codemirror_mode": {
    "name": "ipython",
    "version": 3
   },
   "file_extension": ".py",
   "mimetype": "text/x-python",
   "name": "python",
   "nbconvert_exporter": "python",
   "pygments_lexer": "ipython3",
   "version": "3.11.5"
  }
 },
 "nbformat": 4,
 "nbformat_minor": 4
}
