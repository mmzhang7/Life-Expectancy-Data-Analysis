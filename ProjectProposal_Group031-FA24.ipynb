{
 "cells": [
  {
   "cell_type": "markdown",
   "metadata": {},
   "source": [
    "# COGS 108 - Project Proposal: Longevity & Educational Opportunity"
   ]
  },
  {
   "cell_type": "markdown",
   "metadata": {},
   "source": [
    "# Names\n",
    "\n",
    "- Mary-Ann Huang\n",
    "- Jenna Jedlicki\n",
    "- Heidi Salmoran\n",
    "- Jessica Zhang\n",
    "- Maggie Zhang"
   ]
  },
  {
   "cell_type": "markdown",
   "metadata": {},
   "source": [
    "# Research Question"
   ]
  },
  {
   "cell_type": "markdown",
   "metadata": {},
   "source": [
    "Is there a relationship between life expectancy and schooling time over the years 2000 to 2015? Specifically, should a country having a lower life expectancy value(<65) lower its education barriers in order to improve its lifespan?"
   ]
  },
  {
   "cell_type": "markdown",
   "metadata": {},
   "source": [
    "## Background and Prior Work"
   ]
  },
  {
   "cell_type": "markdown",
   "metadata": {},
   "source": [
    "Life expectancy is a key metric in global development goals like the United Nations Sustainable Development Goals, which aim to improve health and promote well-being worldwide. <sup><a href=\"#WHO2022\">1</a></sup> As we all know, education often plays an important role in a country's development, especially in health. Intuitively, it equips people with the skills to understand basic health information, from nutrition labels to prescription instructions. In countries with lower expectancies, a lack of health literacy increases the rates of risky behaviors  like substance abuse, smoking, and unprotected sex. However, in extreme cases, some people have longer life spans despite challenging conditions. We want to find the relationship between life expectancy and schooling year, especially in countries with life expectancy below 65 years. Specifically, we aim to determine how significally additional years of schooling impact life expectancy. Therefore, governments can make informed decisions regarding education funding.\n",
    "\n",
    "The glaring differences in life expectancies among countries and nations has led us to observe the relationship between these educational opportunities and how they can impact a country’s life expectancy. In doing so, we’ve referenced previous works published from institutions such as the Institute for Health Metrics and Evaluation (IHME) and the National Institute of Health (NIH). The article, “Effects of education on adult mortality: A global systemic review and meta-analysis” by Claire Henson et al., found that access to education (e.g., 18-year education) has a positive effect on reducing adult mortality all around (Henson et al., 2024) <sup><a href=\"#THELANCET2024\">3</a></sup>. In their approach to this study through systematic review and meta-analysis, their research covered several components such as age groups, super-regions, socio-demographic index level, follow-ups, study-level controls, and much more. As this case took into consideration several global technological advancements in health care/quality, public health efforts, and individual rights in the workforce, they’ve denoted that the above factors have greatly contributed to the positive trends of this study. Likewise, the study, “The Effect of Educational Attainment on Adult Mortality in the United States” by Robert A. Hummer and Elaine M. Hernandez sought to investigate the differences among different groups of individuals in the U.S. and utilize those findings to draw connections between their identities and their level of educational attainment. For instance, they sorted individuals into different categories by: \n",
    "\n",
    "- \"Less than a high school degree or its equivalent,\n",
    "- A high school degree or its equivalent,\n",
    "- Some college but not a bachelor's degree,\n",
    "- A bachelor's degree or higher\" (Hummer & Hernandez, 2013) <sup><a href=\"#NIH2013\">4</a></sup>.\n",
    "\n",
    "While the relevant works are similar, they both go beyond preliminary knowledge of the relationship between education and life expectancy. This is due to the different perspectives that both studies provide such as observing the positive trends [in life expectancy and education] across countries and analyzing the story told by the decrease in U.S. mortality rates across different categories of individuals.\n",
    "\n",
    "\n",
    "References:\n",
    "1. <a name=\"WHO2022\"></a> World Health Organization. (2022). Sustainable Development Goals Report. United Nations. [https://unstats.un.org/sdgs/report/2022/SDG2022_Flipbook_final.pdf](https://unstats.un.org/sdgs/report/2022/SDG2022_Flipbook_final.pdf) <a href=\"#1\">^</a>\n",
    "\n",
    "2. <a name=\"IHME2024\"></a> *Effects of education on adult mortality*. (n.d.). Institute for Health Metrics and Evaluation. https://www.healthdata.org/research-analysis/library/effects-education-adult-mortality <a href=\"#2\"></a>\n",
    "\n",
    "3. <a name=\"THELANCET2024\"></a> Henson, C., Gakidou, E., Aravkin, A., Hay, S., McLaughlin, S., Mullany, E., O’Connell, E., Sorensen, R., & Zheng, P. (2024). Effects of Education on Adult Mortality: A Global Systematic Review and Meta-analysis. *The Lancet Public Health*, 9(3), 155–165. https://www.thelancet.com/journals/lanpub/article/PIIS2468-2667(23)00306-7/fulltext <a href=\"#3\"></a>\n",
    "\n",
    "\n",
    "4. <a name=\"NIH2013\"></a> Hummer, R. A., & Hernandez, E. M. (2013, June 1). *The effect of educational attainment on adult mortality in the United States*. https://pmc.ncbi.nlm.nih.gov/articles/PMC4435622/ <a href=\"#4\"></a>\n"
   ]
  },
  {
   "cell_type": "markdown",
   "metadata": {},
   "source": [
    "# Hypothesis\n"
   ]
  },
  {
   "cell_type": "markdown",
   "metadata": {},
   "source": [
    "Our main hypothesis is that longer schooling time is positively correlated with life expectancy especially above 65 years. Although length of school attendance in years is not the sole factor that affects life expectancy, we believe that an increase in education benefits life quality, which in turn positively affects life expectancy. Some bias factors might be by nationality, sex, race, and other demographics. \n"]
  },
  {
   "cell_type": "markdown",
   "metadata": {},
   "source": [
    "# Data"
   ]
  },
  {
   "cell_type": "markdown",
   "metadata": {},
   "source": [
    "The variables we would have would include: year, nationality, development status of the country in question, average duration of education in years, life expectancy, eating habits, age density of the population. Some of these could be stored as numbers, while others could be stored as graphs/ histogram representations. We would ideally want at least 1000+ entries, but over 5000 is probably most ideal and representative of real life. The time period would be over 2000-2015, which is a good time period that saw many economic fluctuations but didn’t have a global pandemic. \n"
   ]
  },
  {
   "cell_type": "markdown",
   "metadata": {},
   "source": [
    "# Ethics & Privacy"
   ]
  },
  {
   "cell_type": "markdown",
   "metadata": {},
   "source": [
    "One risk for our data is the possibility of collection bias. Especially from less developed countries, it is possible that data relating to people from more rural or lesser-known areas is not collected. During our analysis, we must be sure we are not undersampling these overlooked areas of concern. Additionally, biases may arise in dataset composition as some countries are purposely excluded due to lacking vaccination data such as Vanuatu, Tonga, Togo, and Cabo Verde (mostly small island nations) so we need to either account for this missing data or see how well our model fits even without that data. There may also be differences in data collection methods which causes data variation across different countries. Finally, we need to make sure there is not any unintended use of our analysis, especially with any human biases involved. We can also look for inconsistencies or missing values to determine whether there are systematic biases in data collection and can affect the integrity of the dataset. \n",
    "\n",
    "In regards to privacy, we need to make sure that personal identifiable information is not being used and is removed. It is also important to keep into consideration that the dataset is collected and maintained by the government which can restrict how data is accessed or shared. When analyzing these datasets, we will only use information that is already available to the public. We also need to make sure our model is fair to all kinds of people involved and does not discriminate against any groups."
   ]
  },
  {
   "cell_type": "markdown",
   "metadata": {},
   "source": [
    "# Team Expectations "
   ]
  },
  {
   "cell_type": "markdown",
   "metadata": {},
   "source": [
    "\n",
    "* *Communicate through Slack to set up meetings, organize documents, and brainstorm.*\n",
    "* *Any team member can voice their input during meetings. If there are disagreements, they can be discussed through reasoning until the group comes to a compromise or resolution arrives.*\n",
    "* *Every member of the team will be able to participate in the decision-making process. This will mainly be done during meetings.*\n",
    "* *Tasks will be distributed evenly amongst the team.*\n",
    "* *After tasks are distributed evenly, each team member should be responsible for contributing their portion in order to meet the deadline.*\n",
    "* *If someone is struggling with a portion of the project, they may reach out through Slack or we can troubleshoot to do it over Zoom.*"
   ]
  },
  {
   "cell_type": "markdown",
   "metadata": {},
   "source": [
    "# Project Timeline Proposal"
   ]
  },
  {
   "cell_type": "markdown",
   "metadata": {},
   "source": [
    "Specify your team's specific project timeline. An example timeline has been provided. Changes the dates, times, names, and details to fit your group's plan.\n",
    "\n",
    "If you think you will need any special resources or training outside what we have covered in COGS 108 to solve your problem, then your proposal should state these clearly. For example, if you have selected a problem that involves implementing multiple neural networks, please state this so we can make sure you know what you’re doing and so we can point you to resources you will need to implement your project. Note that you are not required to use outside methods.\n",
    "\n",
    "\n",
    "\n",
    "| Meeting Date  | Meeting Time| Completed Before Meeting  | Discuss at Meeting |\n",
    "|---|---|---|---|\n",
    "| 09/30  |  1 PM | Read & Think about COGS 108 expectations; brainstorm topics/questions  | Determine best form of communication; Discuss and decide on final project topic; discuss hypothesis; begin background research | \n",
    "| 10/15  |  10 AM |  Do background research on topic | Discuss ideal dataset(s) and ethics; draft project proposal | \n",
    "| 10/30 | 10 AM  | Edit, finalize, and submit proposal; Search for datasets  | Discuss Wrangling and possible analytical approaches; Assign group members to lead each specific part   |\n",
    "| 11/05  | 6 PM  | Import & Wrangle Data | Review/Edit wrangling/EDA; Discuss Analysis Plan |\n",
    "| 11/10  | 12 PM  | Finalize wrangling/EDA; Begin Analysis| Discuss/edit Analysis; Complete project check-in due on 13th |\n",
    "| 11/20  | 12 PM  | Complete analysis; Draft results/conclusion/discussion (Wasp)| Discuss/edit full project |\n",
    "| 12/13  | Before 11:59 PM  | NA | Turn in Final Project & Group Project Surveys |"
   ]
  }
 ],
 "metadata": {
  "kernelspec": {
   "display_name": "Python 3 (ipykernel)",
   "language": "python",
   "name": "python3"
  },
  "language_info": {
   "codemirror_mode": {
    "name": "ipython",
    "version": 3
   },
   "file_extension": ".py",
   "mimetype": "text/x-python",
   "name": "python",
   "nbconvert_exporter": "python",
   "pygments_lexer": "ipython3",
   "version": "3.9.7"
  }
 },
 "nbformat": 4,
 "nbformat_minor": 2
}
